{
 "cells": [
  {
   "cell_type": "code",
   "execution_count": 30,
   "id": "e86debe5",
   "metadata": {},
   "outputs": [],
   "source": [
    "import requests\n",
    "from bs4 import BeautifulSoup\n",
    "import pandas as pd"
   ]
  },
  {
   "cell_type": "code",
   "execution_count": 31,
   "id": "eb7197e4",
   "metadata": {},
   "outputs": [],
   "source": [
    "baseurl=\"https://www.1mg.com\""
   ]
  },
  {
   "cell_type": "code",
   "execution_count": 32,
   "id": "f6672901",
   "metadata": {},
   "outputs": [],
   "source": [
    "headers={\n",
    "  \"User-Agent\" : \"Mozilla/5.0 (Windows NT 10.0; Win64; x64) AppleWebKit/537.36 (KHTML, like Gecko) Brave/701.0.3729.169 Safari/537.36\"\n",
    "}"
   ]
  },
  {
   "cell_type": "code",
   "execution_count": 33,
   "id": "825ad29e",
   "metadata": {},
   "outputs": [],
   "source": [
    "r=requests.get(\"https://www.1mg.com/categories/homeopathy-57?filter=true&pageNumber=2\",headers=headers)"
   ]
  },
  {
   "cell_type": "code",
   "execution_count": 34,
   "id": "d3b7771c",
   "metadata": {},
   "outputs": [],
   "source": [
    "soup= BeautifulSoup(r.content,\"lxml\")"
   ]
  },
  {
   "cell_type": "code",
   "execution_count": 35,
   "id": "d75855a1",
   "metadata": {},
   "outputs": [],
   "source": [
    "productlink=[]\n",
    "for x in range (1,30):\n",
    "    r=requests.get(\"https://www.1mg.com/categories/homeopathy-57?filter=true&pageNumber={x}\",headers=headers)\n",
    "    soup= BeautifulSoup(r.content,\"lxml\")\n",
    "    productlis= soup.find_all(\"div\",{\"class\":\"col-md-3 col-sm-4 col-xs-6 style__container___1TL2R\"})\n",
    "    for item in productlis:\n",
    "        \n",
    "        for link in item.find_all(\"a\",href=True):\n",
    "            \n",
    "            productlink.append(baseurl + link[\"href\"])"
   ]
  },
  {
   "cell_type": "code",
   "execution_count": 36,
   "id": "9fe7b2b5",
   "metadata": {},
   "outputs": [],
   "source": [
    "productlist=[]\n",
    "for link in productlink:\n",
    "    r=requests.get(link,headers=headers)\n",
    "    soup=BeautifulSoup(r.content,\"lxml\")\n",
    "    product_name=soup.find(\"h1\",class_=\"ProductTitle__product-title___3QMYH\").text.strip()\n",
    "    \n",
    "    Brand_name=soup.find(\"div\",class_=\"ProductTitle__manufacturer___sTfon\").text.strip()\n",
    "    try:\n",
    "         Rating=soup.find(\"div\",class_=\"RatingDisplay__ratings-container___3oUuo\").text.strip()\n",
    "    except:\n",
    "        Rating:\"Nan\"\n",
    "    try:\n",
    "         No_Rating=soup.find(\"span\",class_=\"RatingDisplay__ratings-header___ZNj5b\").text.strip()\n",
    "    except:\n",
    "         No_Rating:\"Nan\"\n",
    "    \n",
    "    product_details = soup.find_all('div', {'class': 'ProductDescription__description-content___A_qCZ'})\n",
    "\n",
    "    key_benefits = product_details[0].find_all('li')\n",
    "    key_benefits_list = [benefit.text.strip() for benefit in key_benefits]\n",
    "#     ['key_benefits_list'][0][:1]\n",
    "\n",
    "           \n",
    "    product={\n",
    "        \n",
    "        \"Product_name\":product_name,\n",
    "        \"Brand\":Brand_name,\n",
    "        \"Rating\":Rating,\n",
    "        \"No_Rating\":No_Rating,\n",
    "        \"key_benefits_list\":key_benefits_list\n",
    "         }\n",
    "    productlist.append(product)"
   ]
  },
  {
   "cell_type": "code",
   "execution_count": 37,
   "id": "7bdbfa7c",
   "metadata": {},
   "outputs": [],
   "source": [
    "a=pd.DataFrame(productlist)"
   ]
  },
  {
   "cell_type": "code",
   "execution_count": 38,
   "id": "d5696012",
   "metadata": {},
   "outputs": [
    {
     "data": {
      "text/html": [
       "<div>\n",
       "<style scoped>\n",
       "    .dataframe tbody tr th:only-of-type {\n",
       "        vertical-align: middle;\n",
       "    }\n",
       "\n",
       "    .dataframe tbody tr th {\n",
       "        vertical-align: top;\n",
       "    }\n",
       "\n",
       "    .dataframe thead th {\n",
       "        text-align: right;\n",
       "    }\n",
       "</style>\n",
       "<table border=\"1\" class=\"dataframe\">\n",
       "  <thead>\n",
       "    <tr style=\"text-align: right;\">\n",
       "      <th></th>\n",
       "      <th>Product_name</th>\n",
       "      <th>Brand</th>\n",
       "      <th>Rating</th>\n",
       "      <th>No_Rating</th>\n",
       "      <th>key_benefits_list</th>\n",
       "    </tr>\n",
       "  </thead>\n",
       "  <tbody>\n",
       "    <tr>\n",
       "      <th>0</th>\n",
       "      <td>Dr Willmar Schwabe India Berberis Aquifolium M...</td>\n",
       "      <td>Dr Willmar Schwabe India Pvt Ltd</td>\n",
       "      <td>4.3</td>\n",
       "      <td>684 Ratings</td>\n",
       "      <td>[It helps improve mood and energy levels, Reli...</td>\n",
       "    </tr>\n",
       "    <tr>\n",
       "      <th>1</th>\n",
       "      <td>Dr Willmar Schwabe Germany Cineraria Maritima ...</td>\n",
       "      <td>Dr Willmar Schwabe India Pvt Ltd</td>\n",
       "      <td>4.6</td>\n",
       "      <td>1146 Ratings</td>\n",
       "      <td>[Seneciobicolor (cineraria maritima), It is an...</td>\n",
       "    </tr>\n",
       "    <tr>\n",
       "      <th>2</th>\n",
       "      <td>Dr Batra's Homeo+ Immunity Medicine Oral Drops...</td>\n",
       "      <td>Dr Batra Positive Health Products Limited</td>\n",
       "      <td>4.6</td>\n",
       "      <td>1146 Ratings</td>\n",
       "      <td>[Echinacea, Aconitum Nappelus, Sambucus Nigra,...</td>\n",
       "    </tr>\n",
       "    <tr>\n",
       "      <th>3</th>\n",
       "      <td>SBL Arnica Montana Herbal Shampoo with TJC</td>\n",
       "      <td>SBL Pvt Ltd</td>\n",
       "      <td>4.4</td>\n",
       "      <td>676 Ratings</td>\n",
       "      <td>[It helps manage dull, dry and coarse hair, It...</td>\n",
       "    </tr>\n",
       "    <tr>\n",
       "      <th>4</th>\n",
       "      <td>Boericke and Tafel Arnica Shampoo</td>\n",
       "      <td>Dr Willmar Schwabe India Pvt Ltd</td>\n",
       "      <td>4.3</td>\n",
       "      <td>229 Ratings</td>\n",
       "      <td>[Arnica, Jaborandi, Salvia, Enhances local blo...</td>\n",
       "    </tr>\n",
       "    <tr>\n",
       "      <th>...</th>\n",
       "      <td>...</td>\n",
       "      <td>...</td>\n",
       "      <td>...</td>\n",
       "      <td>...</td>\n",
       "      <td>...</td>\n",
       "    </tr>\n",
       "    <tr>\n",
       "      <th>1271</th>\n",
       "      <td>Dr Willmar Schwabe Germany Cineraria Maritima ...</td>\n",
       "      <td>Dr Willmar Schwabe India Pvt Ltd</td>\n",
       "      <td>4.5</td>\n",
       "      <td>71 Ratings</td>\n",
       "      <td>[The eye drop is an alcohol-free formulation, ...</td>\n",
       "    </tr>\n",
       "    <tr>\n",
       "      <th>1272</th>\n",
       "      <td>Bakson's Rheum Aid Tablet</td>\n",
       "      <td>Bakson's Homeopathy</td>\n",
       "      <td>4.6</td>\n",
       "      <td>141 Ratings</td>\n",
       "      <td>[Calcarea phos, Ferrum phos, Kali. phos, Natru...</td>\n",
       "    </tr>\n",
       "    <tr>\n",
       "      <th>1273</th>\n",
       "      <td>SBL Calcarea Fluorica Biochemic Tablet 6X</td>\n",
       "      <td>SBL Pvt Ltd</td>\n",
       "      <td>4.5</td>\n",
       "      <td>944 Ratings</td>\n",
       "      <td>[It is primarily used for the management of va...</td>\n",
       "    </tr>\n",
       "    <tr>\n",
       "      <th>1274</th>\n",
       "      <td>SBL Arnica Montana Dilution 200 CH</td>\n",
       "      <td>SBL Pvt Ltd</td>\n",
       "      <td>4.6</td>\n",
       "      <td>1677 Ratings</td>\n",
       "      <td>[The dilution can help reduce pain in the head...</td>\n",
       "    </tr>\n",
       "    <tr>\n",
       "      <th>1275</th>\n",
       "      <td>SBL Berberis Aquifolium Gel</td>\n",
       "      <td>SBL Pvt Ltd</td>\n",
       "      <td>4.3</td>\n",
       "      <td>709 Ratings</td>\n",
       "      <td>[Berberisaquifolium, Sandalwood, Turmeric, Imp...</td>\n",
       "    </tr>\n",
       "  </tbody>\n",
       "</table>\n",
       "<p>1276 rows × 5 columns</p>\n",
       "</div>"
      ],
      "text/plain": [
       "                                           Product_name  \\\n",
       "0     Dr Willmar Schwabe India Berberis Aquifolium M...   \n",
       "1     Dr Willmar Schwabe Germany Cineraria Maritima ...   \n",
       "2     Dr Batra's Homeo+ Immunity Medicine Oral Drops...   \n",
       "3            SBL Arnica Montana Herbal Shampoo with TJC   \n",
       "4                     Boericke and Tafel Arnica Shampoo   \n",
       "...                                                 ...   \n",
       "1271  Dr Willmar Schwabe Germany Cineraria Maritima ...   \n",
       "1272                          Bakson's Rheum Aid Tablet   \n",
       "1273          SBL Calcarea Fluorica Biochemic Tablet 6X   \n",
       "1274                 SBL Arnica Montana Dilution 200 CH   \n",
       "1275                        SBL Berberis Aquifolium Gel   \n",
       "\n",
       "                                          Brand Rating     No_Rating  \\\n",
       "0              Dr Willmar Schwabe India Pvt Ltd    4.3   684 Ratings   \n",
       "1              Dr Willmar Schwabe India Pvt Ltd    4.6  1146 Ratings   \n",
       "2     Dr Batra Positive Health Products Limited    4.6  1146 Ratings   \n",
       "3                                   SBL Pvt Ltd    4.4   676 Ratings   \n",
       "4              Dr Willmar Schwabe India Pvt Ltd    4.3   229 Ratings   \n",
       "...                                         ...    ...           ...   \n",
       "1271           Dr Willmar Schwabe India Pvt Ltd    4.5    71 Ratings   \n",
       "1272                        Bakson's Homeopathy    4.6   141 Ratings   \n",
       "1273                                SBL Pvt Ltd    4.5   944 Ratings   \n",
       "1274                                SBL Pvt Ltd    4.6  1677 Ratings   \n",
       "1275                                SBL Pvt Ltd    4.3   709 Ratings   \n",
       "\n",
       "                                      key_benefits_list  \n",
       "0     [It helps improve mood and energy levels, Reli...  \n",
       "1     [Seneciobicolor (cineraria maritima), It is an...  \n",
       "2     [Echinacea, Aconitum Nappelus, Sambucus Nigra,...  \n",
       "3     [It helps manage dull, dry and coarse hair, It...  \n",
       "4     [Arnica, Jaborandi, Salvia, Enhances local blo...  \n",
       "...                                                 ...  \n",
       "1271  [The eye drop is an alcohol-free formulation, ...  \n",
       "1272  [Calcarea phos, Ferrum phos, Kali. phos, Natru...  \n",
       "1273  [It is primarily used for the management of va...  \n",
       "1274  [The dilution can help reduce pain in the head...  \n",
       "1275  [Berberisaquifolium, Sandalwood, Turmeric, Imp...  \n",
       "\n",
       "[1276 rows x 5 columns]"
      ]
     },
     "execution_count": 38,
     "metadata": {},
     "output_type": "execute_result"
    }
   ],
   "source": [
    "a"
   ]
  },
  {
   "cell_type": "code",
   "execution_count": 39,
   "id": "1403ffd6",
   "metadata": {},
   "outputs": [],
   "source": [
    "a.to_csv(r\"C:\\Users\\lenovo\\Documents\\New folder\\1mg-2.csv\",index=False)"
   ]
  },
  {
   "cell_type": "code",
   "execution_count": null,
   "id": "960a029f",
   "metadata": {},
   "outputs": [],
   "source": []
  },
  {
   "cell_type": "code",
   "execution_count": 26,
   "id": "81f5b802",
   "metadata": {},
   "outputs": [
    {
     "data": {
      "text/plain": [
       "['It helps improve mood and energy levels']"
      ]
     },
     "execution_count": 26,
     "metadata": {},
     "output_type": "execute_result"
    }
   ],
   "source": [
    "a['key_benefits_list'][0][:1]"
   ]
  },
  {
   "cell_type": "code",
   "execution_count": null,
   "id": "abd34ad3",
   "metadata": {},
   "outputs": [],
   "source": []
  }
 ],
 "metadata": {
  "kernelspec": {
   "display_name": "Python 3 (ipykernel)",
   "language": "python",
   "name": "python3"
  },
  "language_info": {
   "codemirror_mode": {
    "name": "ipython",
    "version": 3
   },
   "file_extension": ".py",
   "mimetype": "text/x-python",
   "name": "python",
   "nbconvert_exporter": "python",
   "pygments_lexer": "ipython3",
   "version": "3.9.13"
  }
 },
 "nbformat": 4,
 "nbformat_minor": 5
}
